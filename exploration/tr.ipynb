{
 "cells": [
  {
   "cell_type": "code",
   "execution_count": 1,
   "metadata": {},
   "outputs": [],
   "source": [
    "import music21 as m21\n",
    "import glob\n",
    "from typing import Iterator\n",
    "import matplotlib.pyplot as plt\n",
    "import torch"
   ]
  },
  {
   "cell_type": "code",
   "execution_count": 2,
   "metadata": {},
   "outputs": [
    {
     "name": "stdout",
     "output_type": "stream",
     "text": [
      "0 1 2 3 4 5 6 7 8 9 10 11 12 13 14 15 16 17 18 19 20 21 22 23 24 25 26 27 28 29 30 31 32 33 34 Unknown type: complex\n",
      "35 36 37 38 39 "
     ]
    }
   ],
   "source": [
    "opuses = []\n",
    "for i, abc_file_path in enumerate(glob.glob(\"../data/esac/*.abc\")):\n",
    "    print(i, end=\" \")\n",
    "    try:\n",
    "        opuses.append(m21.converter.parse(abc_file_path))\n",
    "    except Exception as ex:\n",
    "        print(ex)"
   ]
  },
  {
   "cell_type": "code",
   "execution_count": 3,
   "metadata": {},
   "outputs": [],
   "source": [
    "def iter_parts(opuses: list[m21.stream.Opus]) -> Iterator[m21.stream.Part]:\n",
    "    for opus in opuses:\n",
    "        for score in opus[1:]:\n",
    "            # yield score[0].localeOfComposition\n",
    "            for part in score[1:]:\n",
    "                yield part\n",
    "\n",
    "part = next(iter_parts(opuses))"
   ]
  },
  {
   "cell_type": "code",
   "execution_count": 11,
   "metadata": {},
   "outputs": [
    {
     "name": "stdout",
     "output_type": "stream",
     "text": [
      "13880 9789 1.4179180713045254\n"
     ]
    }
   ],
   "source": [
    "ts_count = 0\n",
    "part_count = 0\n",
    "for part in iter_parts(opuses):\n",
    "    part_count += 1\n",
    "    for measure in part:\n",
    "        try:\n",
    "            for symbol in measure: \n",
    "                if isinstance(symbol, m21.meter.TimeSignature):\n",
    "                    ts_count +=1\n",
    "        except TypeError:\n",
    "            if isinstance(measure, m21.meter.TimeSignature):\n",
    "                ts_count +=1\n",
    "\n",
    "\n",
    "print(ts_count, part_count, ts_count / part_count)"
   ]
  },
  {
   "cell_type": "code",
   "execution_count": 15,
   "metadata": {},
   "outputs": [],
   "source": [
    "for part in iter_parts(opuses):\n",
    "    count = 0\n",
    "    for measure in part:\n",
    "        try:\n",
    "            for symbol in measure: \n",
    "                if isinstance(symbol, m21.key.Key):\n",
    "                    count +=1\n",
    "        except TypeError:\n",
    "            break\n",
    "    if count > 1:\n",
    "        for measure in part:\n",
    "            for symbol in measure:\n",
    "                print(symbol)\n",
    "            print()\n",
    "        break"
   ]
  },
  {
   "cell_type": "code",
   "execution_count": 31,
   "metadata": {},
   "outputs": [
    {
     "name": "stdout",
     "output_type": "stream",
     "text": [
      "<music21.stream.Measure 0 offset=0.0>\n"
     ]
    }
   ],
   "source": [
    "note = None\n",
    "for m in part:\n",
    "    print(m)\n",
    "    break\n",
    "    for s in m:\n",
    "        if isinstance(s, m21.note.Note):\n",
    "            note = s\n",
    "            break\n",
    "    if note:\n",
    "        break\n",
    "note"
   ]
  },
  {
   "cell_type": "code",
   "execution_count": 128,
   "metadata": {},
   "outputs": [],
   "source": [
    "def encode_note(note: m21.note.Note|m21.note.Rest, resolution=24) -> tuple[int, int]:\n",
    "    if isinstance(note, m21.note.Rest):\n",
    "        return 128, int(note.duration.quarterLength * resolution)\n",
    "    if isinstance(note, m21.note.Note):\n",
    "        return note.pitch.midi, int(note.duration.quarterLength * resolution)\n",
    "    return None\n",
    "\n",
    "def encode_measure(measure: m21.stream.Measure):\n",
    "    return [encode_note(note) for note in measure if encode_note(note)]\n",
    "\n",
    "def encode_part(part: m21.stream.Part):\n",
    "    if isinstance(part[0], m21.stream.Measure):\n",
    "        try:\n",
    "            key: m21.key.Key = part[0][1]\n",
    "            key.name\n",
    "        except AttributeError:\n",
    "            if isinstance(key, m21.key.KeySignature):\n",
    "                key = key.asKey()\n",
    "        return key.name, [encode_measure(m) for m in part]\n",
    "    try:\n",
    "        key = part[1]\n",
    "        key.name\n",
    "    except AttributeError:\n",
    "        if isinstance(key, m21.key.KeySignature):\n",
    "            key = key.asKey()\n",
    "    return key.name, [encode_measure(part)]\n",
    "\n",
    "dataset = [encode_part(part) for part in iter_parts(opuses)]"
   ]
  },
  {
   "cell_type": "code",
   "execution_count": 132,
   "metadata": {},
   "outputs": [
    {
     "data": {
      "text/plain": [
       "'G major'"
      ]
     },
     "execution_count": 132,
     "metadata": {},
     "output_type": "execute_result"
    }
   ],
   "source": [
    "dataset[250][0]"
   ]
  },
  {
   "cell_type": "code",
   "execution_count": 116,
   "metadata": {},
   "outputs": [
    {
     "data": {
      "text/plain": [
       "<music21.key.Key of C major>"
      ]
     },
     "execution_count": 116,
     "metadata": {},
     "output_type": "execute_result"
    }
   ],
   "source": [
    "m21.key.Key()"
   ]
  },
  {
   "cell_type": "code",
   "execution_count": 84,
   "metadata": {},
   "outputs": [
    {
     "name": "stdout",
     "output_type": "stream",
     "text": [
      "<music21.metadata.Metadata object at 0x7f563a8f73d0>\n",
      "<music21.stream.Part 0x7f563a8f6c50>\n"
     ]
    }
   ],
   "source": [
    "for sth in opuses[0]:\n",
    "    if not isinstance(sth, m21.metadata.Metadata):\n",
    "        \n",
    "        for s in sth:\n",
    "            print(s)\n",
    "\n",
    "        break"
   ]
  },
  {
   "cell_type": "code",
   "execution_count": 136,
   "metadata": {},
   "outputs": [],
   "source": [
    "import yaml\n",
    "import json\n",
    "\n",
    "with open(\"dataset.json\", \"w\") as file:\n",
    "    json.dump(dataset, file)"
   ]
  }
 ],
 "metadata": {
  "kernelspec": {
   "display_name": "Python 3",
   "language": "python",
   "name": "python3"
  },
  "language_info": {
   "codemirror_mode": {
    "name": "ipython",
    "version": 3
   },
   "file_extension": ".py",
   "mimetype": "text/x-python",
   "name": "python",
   "nbconvert_exporter": "python",
   "pygments_lexer": "ipython3",
   "version": "3.10.12"
  },
  "orig_nbformat": 4
 },
 "nbformat": 4,
 "nbformat_minor": 2
}
