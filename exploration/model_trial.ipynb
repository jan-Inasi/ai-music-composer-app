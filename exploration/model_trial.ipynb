{
 "cells": [
  {
   "cell_type": "code",
   "execution_count": 1,
   "metadata": {},
   "outputs": [],
   "source": [
    "import muspy as mp\n",
    "import numpy as np\n",
    "import copy as cp\n",
    "import random\n",
    "import tqdm as tqdm\n",
    "import torch\n",
    "import matplotlib.pyplot as plt\n",
    "from IPython.display import clear_output"
   ]
  },
  {
   "cell_type": "code",
   "execution_count": 2,
   "metadata": {},
   "outputs": [],
   "source": [
    "import sys\n",
    "sys.path.append(sys.path[0] + \"/..\")\n",
    "import lib.prd as prd"
   ]
  },
  {
   "cell_type": "code",
   "execution_count": 4,
   "metadata": {},
   "outputs": [
    {
     "data": {
      "text/plain": [
       "9034"
      ]
     },
     "execution_count": 4,
     "metadata": {},
     "output_type": "execute_result"
    }
   ],
   "source": [
    "ds_muspy = mp.datasets.EssenFolkSongDatabase(\"../data\")\n",
    "len(ds_muspy)"
   ]
  },
  {
   "attachments": {},
   "cell_type": "markdown",
   "metadata": {},
   "source": [
    "#### muspy dataset to prd representation"
   ]
  },
  {
   "cell_type": "code",
   "execution_count": 4,
   "metadata": {},
   "outputs": [
    {
     "name": "stdout",
     "output_type": "stream",
     "text": [
      "successfully converted: 9010/9034\n"
     ]
    }
   ],
   "source": [
    "ds_prd = []\n",
    "fail_counter = 0\n",
    "nr = 9\n",
    "for i, music in enumerate(ds_muspy):\n",
    "    try:\n",
    "        track_prd = prd.from_muspy(music)\n",
    "    except Exception:\n",
    "        continue\n",
    "    else:\n",
    "        ds_prd.append(torch.tensor(track_prd))\n",
    "print(f\"successfully converted: {len(ds_prd)}/{len(ds_muspy)}\")"
   ]
  },
  {
   "cell_type": "code",
   "execution_count": 5,
   "metadata": {},
   "outputs": [],
   "source": [
    "def random_uniform_float(a: float = 0, b: float = 1) -> float:\n",
    "    rnd = np.random.random()\n",
    "    return rnd * (b - a) + a"
   ]
  },
  {
   "cell_type": "code",
   "execution_count": 6,
   "metadata": {},
   "outputs": [],
   "source": [
    "def tensor_prepend_append(tensor, pre, ap):\n",
    "    return torch.concat((torch.tensor([pre]), tensor, torch.tensor([ap])), dim=0)\n",
    "\n",
    "class DatasetPRD(torch.utils.data.Dataset):\n",
    "\n",
    "    PADDING = -3  # unencoded (0 as code)\n",
    "    SOT_DURATION = -2  # unencoded\n",
    "    EOT_DURATION = -1  # unencoded\n",
    "    SOT_DUR_CODE = 1\n",
    "    EOT_DUR_CODE = 2\n",
    "\n",
    "    def __init__(self, prd_tunes: list[torch.Tensor], *, xy_split: float|list[float]=0.5, sot_code: int=129, eot_code: int=130, trnasposition_augment_range: tuple[int]|None=None):\n",
    "        self.xy_split = xy_split\n",
    "        self.sot_code = sot_code  # sot <=> start of tune\n",
    "        self.eot_code = eot_code  # eot <=> end of tune\n",
    "        self.transposition_range = trnasposition_augment_range\n",
    "        self.duration2code = {}\n",
    "        self.code2duration = []\n",
    "        self.create_code_translation(prd_tunes)\n",
    "        self.tunes = self.prepare_tunes(prd_tunes)\n",
    "\n",
    "    def random_interval(self):\n",
    "        lowest, highest = self.transposition_range\n",
    "        return np.random.randint(lowest, highest + 1)\n",
    "\n",
    "    def transpose(self, tune):\n",
    "        if self.transposition_range is None:\n",
    "            return tune\n",
    "        \n",
    "        interval = self.random_interval()\n",
    "        return prd.transpose(tune, interval)\n",
    "\n",
    "    def create_code_translation(self, tunes: list[torch.Tensor]):\n",
    "        set_of_durations = set(\n",
    "            int(duration) for tune in tunes for duration in tune[:, 1]\n",
    "        )\n",
    "        padding_sot_eot = [self.PADDING, self.SOT_DURATION, self.EOT_DURATION]\n",
    "        self.code2duration = padding_sot_eot + sorted(list(set_of_durations))\n",
    "        self.duration2code = {dur: i for i, dur in enumerate(self.code2duration)}\n",
    "\n",
    "    def encode_durations(self, prd_tunes: list[torch.Tensor]) -> list[torch.Tensor]:\n",
    "        encoded_tunes = []\n",
    "        for tune in cp.deepcopy(prd_tunes):\n",
    "            tune[:, 1] = tune[:, 1].apply_(lambda x: self.duration2code[x])\n",
    "            encoded_tunes.append(tune)\n",
    "        return encoded_tunes\n",
    "    \n",
    "    def decode_durations(self, prd_tunes: list[torch.Tensor]) -> list[torch.Tensor]:\n",
    "        decoded_tunes = []\n",
    "        for tune in prd_tunes:\n",
    "            tune[:, 1] = tune[:, 1].apply_(lambda x: self.code2duration[x])\n",
    "            decoded_tunes.append(tune)\n",
    "        return decoded_tunes\n",
    "    \n",
    "    def mark_start_end(self, tunes: list[torch.Tensor]) -> list[torch.Tensor]:\n",
    "        marked_tunes = []\n",
    "        for tune in tunes:\n",
    "            pitch = tune[:, 0]\n",
    "            duration = tune[:, 1]\n",
    "            pitch = tensor_prepend_append(pitch, self.sot_code, self.eot_code)\n",
    "            duration = tensor_prepend_append(duration, self.SOT_DUR_CODE, self.EOT_DUR_CODE)\n",
    "            marked_tunes.append(\n",
    "                torch.stack([pitch, duration]).T\n",
    "            )\n",
    "        return marked_tunes\n",
    "\n",
    "    def prepare_tunes(self, tunes: list[torch.Tensor]) -> list[torch.Tensor]:\n",
    "        tunes = cp.deepcopy(tunes)\n",
    "        tunes = self.encode_durations(tunes)\n",
    "        tunes = self.mark_start_end(tunes)\n",
    "        return tunes\n",
    "    \n",
    "    @property\n",
    "    def pitch_dim(self):\n",
    "        return 128 + 1 + 2  # padding + midi_range\\{0} + rest + start_stop\n",
    "    \n",
    "    @property\n",
    "    def duration_dim(self):\n",
    "        return len(self.code2duration) + 1  # nmb_of_durations + start_end + padding\n",
    "\n",
    "    \n",
    "    @property\n",
    "    def xy_split_ratio(self) -> float:\n",
    "        if isinstance(self.xy_split, float):\n",
    "            return self.xy_split\n",
    "        return random_uniform_float(*self.xy_split)\n",
    "    \n",
    "    def __len__(self):\n",
    "        return len(self.tunes)\n",
    "    \n",
    "    def __getitem__(self, index: int) -> tuple[torch.Tensor, torch.Tensor]:\n",
    "        tune = self.tunes[index]\n",
    "        tune = self.transpose(tune)\n",
    "        split_idx = round(len(tune) * self.xy_split_ratio)\n",
    "        x = tune[:split_idx]\n",
    "        y = tune[split_idx:]\n",
    "        return x, y\n"
   ]
  },
  {
   "cell_type": "code",
   "execution_count": 17,
   "metadata": {},
   "outputs": [
    {
     "data": {
      "image/png": "[encoded data removed]",
      "text/plain": [
       "<Figure size 640x480 with 1 Axes>"
      ]
     },
     "metadata": {
      "image/png": {
       "height": 417,
       "width": 547
      }
     },
     "output_type": "display_data"
    },
    {
     "name": "stdout",
     "output_type": "stream",
     "text": [
      "9000 | pitch: 2.33 | dur: 1.30\n",
      "finished epoch: 1 | pitch: 2.32 | dur: 1.26\n"
     ]
    }
   ],
   "source": [
    "class Encoder(torch.nn.Module):\n",
    "    def __init__(self, pitch_dims, duration_dims, hidden_dim, num_layers=2):\n",
    "        super().__init__()\n",
    "\n",
    "        self.pitch_dims = pitch_dims\n",
    "        self.duration_dims = duration_dims\n",
    "\n",
    "        self.hidden_dim = hidden_dim\n",
    "        self.num_layers = num_layers\n",
    "\n",
    "        self.pitch_embedding = torch.nn.Embedding(*pitch_dims)\n",
    "        self.duration_embedding = torch.nn.Embedding(*duration_dims)\n",
    "\n",
    "        embbed_dim = pitch_dims[1] + duration_dims[1]\n",
    "        self.gru = torch.nn.GRU(embbed_dim, hidden_dim, num_layers=num_layers)\n",
    "    \n",
    "    def forward(self, x, hidden):\n",
    "        pitch_emb = self.pitch_embedding(x[0])\n",
    "        duration_emb = self.duration_embedding(x[1])\n",
    "        embedded = torch.concat([pitch_emb, duration_emb], dim=0).view(1, 1, -1)\n",
    "        outputs, hidden = self.gru(embedded, hidden)\n",
    "        return outputs, hidden\n",
    "    \n",
    "    def init_hidden(self):\n",
    "        return torch.zeros(self.num_layers, 1, self.hidden_dim)\n",
    "\n",
    "\n",
    "class Decoder(torch.nn.Module):\n",
    "    def __init__(self, pitch_dims, duration_dims, hidden_dim, pitch_out_dim, duration_out_dim, num_layers=2):\n",
    "        super().__init__()\n",
    "        self.pitch_dims = pitch_dims\n",
    "        self.duration_dims = duration_dims\n",
    "\n",
    "        self.pitch_embedding = torch.nn.Embedding(*pitch_dims)\n",
    "        self.duration_embedding = torch.nn.Embedding(*duration_dims)\n",
    "\n",
    "        self.hidden_dim = hidden_dim\n",
    "\n",
    "        self.num_layers = num_layers\n",
    "\n",
    "        self.gru = torch.nn.GRU(pitch_dims[1] + duration_dims[1], hidden_dim, num_layers=num_layers)\n",
    "        # self.lstm = torch.nn.LSTM(pitch_dims[1] + duration_dims[1], hidden_dim)\n",
    "\n",
    "        self.pitch_out = torch.nn.Linear(hidden_dim, pitch_out_dim)\n",
    "        self.duration_out = torch.nn.Linear(hidden_dim, duration_out_dim)\n",
    "\n",
    "        self.softmax = torch.nn.LogSoftmax(dim=1)\n",
    "    \n",
    "\n",
    "    def forward(self, x, hidden):\n",
    "        pitch_emb = self.pitch_embedding(x[0])\n",
    "        duration_emb = self.duration_embedding(x[1])\n",
    "        embedded = torch.concat([pitch_emb, duration_emb], dim=0).view(1, 1, -1)\n",
    "\n",
    "        output = torch.nn.functional.relu(embedded)\n",
    "        output, hidden = self.gru(output, hidden)\n",
    "\n",
    "        pitch_output = self.softmax(self.pitch_out(output[-1]))\n",
    "        duration_output = self.softmax(self.duration_out(output[-1]))\n",
    "        \n",
    "        return pitch_output, duration_output, hidden\n",
    "    \n",
    "    def init_hidden(self):\n",
    "        return torch.zeros(self.num_layers, 1, self.hidden_dim)\n",
    "\n",
    "\n",
    "\n",
    "def pad_collate(batch):\n",
    "    xx, yy = zip(*batch)  # [batch, tune_len, 2]\n",
    "\n",
    "    x_lens = [len(x) for x in xx]\n",
    "    y_lens = [len(y) for y in yy]\n",
    "    \n",
    "    xx_pad = torch.nn.utils.rnn.pad_sequence(xx, batch_first=True, padding_value=0)\n",
    "    yy_pad = torch.nn.utils.rnn.pad_sequence(yy, batch_first=True, padding_value=0)\n",
    "\n",
    "    return (xx_pad, x_lens), (yy_pad, y_lens)\n",
    "\n",
    "\n",
    "def train_on_sample(x, y, encoder_optimizer, decoder_optimizer, criterion, teacher_forcing_ratio=0):\n",
    "    pitch_loss = 0\n",
    "    duration_loss = 0\n",
    "    encoder_optimizer.zero_grad()\n",
    "    decoder_optimizer.zero_grad()\n",
    "\n",
    "    x_len = x.shape[0]\n",
    "    y_len = y.shape[0]\n",
    "\n",
    "    # encoding\n",
    "    hidden = encoder.init_hidden()\n",
    "    for ei in range(x_len):\n",
    "        output, hidden = encoder(x[ei], hidden)\n",
    "\n",
    "    input = x[-1]\n",
    "\n",
    "    do_teacher_forcing = random.random() < teacher_forcing_ratio\n",
    "\n",
    "    # decoding\n",
    "    if do_teacher_forcing:\n",
    "        for di in range(y_len):\n",
    "            pitch_output, duration_output, hidden = decoder(input, hidden)\n",
    "\n",
    "            pitch_loss += criterion(pitch_output, y[di][0].unsqueeze(dim=0))\n",
    "            duration_loss += criterion(duration_output, y[di][1].unsqueeze(dim=0))\n",
    "            input = y[di]\n",
    "    else:\n",
    "        for di in range(y_len):\n",
    "            pitch_output, duration_output, hidden = decoder(input, hidden)\n",
    "\n",
    "            top_pitch_i = pitch_output.topk(1)[1].squeeze().detach()\n",
    "            top_duration_i = duration_output.topk(1)[1].squeeze().detach()\n",
    "\n",
    "            pitch_loss += criterion(pitch_output, y[di][0].unsqueeze(dim=0))\n",
    "            duration_loss += criterion(duration_output, y[di][1].unsqueeze(dim=0))\n",
    "\n",
    "            input = torch.stack([top_pitch_i, top_duration_i])\n",
    "\n",
    "    loss = pitch_loss + duration_loss\n",
    "    loss.backward()\n",
    "    encoder_optimizer.step()\n",
    "    decoder_optimizer.step()\n",
    "\n",
    "    return pitch_loss.item() / y_len, duration_loss.item() / y_len\n",
    "\n",
    "\n",
    "def train_session(encoder, decoder, dataset, n_epochs, lr=0.01):\n",
    "    pitch_losses = []\n",
    "    duration_losses = []\n",
    "\n",
    "    # encoder_optimizer = torch.optim.SGD(encoder.parameters(), lr=lr)\n",
    "    # decoder_optimizer = torch.optim.SGD(decoder.parameters(), lr=lr)\n",
    "    encoder_optimizer = torch.optim.Adam(encoder.parameters(), lr=lr)\n",
    "    decoder_optimizer = torch.optim.Adam(decoder.parameters(), lr=lr)\n",
    "    criterion = torch.nn.NLLLoss()\n",
    "\n",
    "    ploss_sum = 0\n",
    "    dloss_sum = 0\n",
    "\n",
    "\n",
    "    UPDATE = 100\n",
    "\n",
    "    for epoch in range(n_epochs):\n",
    "        epoch_psum = 0\n",
    "        epoch_dsum = 0\n",
    "\n",
    "        idxs = torch.randperm(len(dataset))\n",
    "        for iter, idx in enumerate(idxs):\n",
    "            x, y = dataset[idx]\n",
    "\n",
    "            pitch_loss, duration_loss = train_on_sample(\n",
    "                x, y, encoder_optimizer, decoder_optimizer, criterion\n",
    "            )\n",
    "\n",
    "            ploss_sum += pitch_loss\n",
    "            dloss_sum += duration_loss\n",
    "\n",
    "            epoch_psum += pitch_loss\n",
    "            epoch_dsum += duration_loss\n",
    "\n",
    "            if iter != 0 and iter % UPDATE == 0:\n",
    "                ploss_avg = ploss_sum / UPDATE\n",
    "                dloss_avg = dloss_sum / UPDATE\n",
    "                pitch_losses.append(ploss_avg)\n",
    "                duration_losses.append(dloss_avg)\n",
    "                clear_output()\n",
    "                plt.plot(pitch_losses)\n",
    "                plt.plot(duration_losses)\n",
    "                plt.show()\n",
    "                print(f\"{iter:4} | pitch: {ploss_avg:.2f} | dur: {dloss_avg:.2f}\")\n",
    "                ploss_sum, dloss_sum = 0, 0\n",
    "\n",
    "        print(f\"finished epoch: {epoch} | pitch: {epoch_psum/len(dataset):.2f} | dur: {epoch_dsum/len(dataset):.2f}\")\n",
    "\n",
    "dataset = DatasetPRD(ds_prd, xy_split=[0.4, 0.6], trnasposition_augment_range=[-3, 3])\n",
    "print(len(dataset))\n",
    "\n",
    "hidden_dim = 128\n",
    "num_layers = 2\n",
    "\n",
    "encoder = Encoder(\n",
    "    pitch_dims=[dataset.pitch_dim, 20],\n",
    "    duration_dims=[dataset.duration_dim, 12],\n",
    "    hidden_dim=hidden_dim,\n",
    "    num_layers=num_layers,\n",
    ")\n",
    "\n",
    "decoder = Decoder(\n",
    "    pitch_dims=[dataset.pitch_dim, 20],\n",
    "    duration_dims=[dataset.duration_dim, 12],\n",
    "    hidden_dim=hidden_dim,\n",
    "    pitch_out_dim=dataset.pitch_dim,\n",
    "    duration_out_dim=dataset.duration_dim,\n",
    "    num_layers=num_layers\n",
    ")\n",
    "\n",
    "train_session(encoder, decoder, dataset, n_epochs=2, lr=0.001)"
   ]
  },
  {
   "cell_type": "code",
   "execution_count": null,
   "metadata": {},
   "outputs": [
    {
     "data": {
      "text/plain": [
       "9010"
      ]
     },
     "execution_count": 279,
     "metadata": {},
     "output_type": "execute_result"
    }
   ],
   "source": [
    "len(dataset)"
   ]
  },
  {
   "cell_type": "code",
   "execution_count": 26,
   "metadata": {},
   "outputs": [
    {
     "name": "stdout",
     "output_type": "stream",
     "text": [
      "tensor([[129,  71, 128,  76,  69,  71,  71,  76,  73,  71,  69,  66, 128,  66,\n",
      "          66,  59,  64,  63,  61,  59, 128,  71,  64,  66,  71],\n",
      "        [  1,  22,   9,   9,   9,   6,   6,   9,   6,   6,   9,   9,   9,   9,\n",
      "           9,   9,   9,   6,   6,  15,   9,   9,   9,   9,   9]])\n",
      "tensor([[ 66,  64,  63,  61,  59,  64,  66,  64,  63,  61,  59, 128,  71,  64,\n",
      "          66,  71,  66,  64,  63,  61,  59,  64,  66,  64,  63,  61,  59, 130],\n",
      "        [  6,   6,   6,   6,   9,  15,   6,   6,   6,   6,  22,   9,   9,   9,\n",
      "           9,   9,   6,   6,   6,   6,   9,  15,   6,   6,   6,   6,  22,   2]])\n"
     ]
    }
   ],
   "source": [
    "x, y = dataset[40]\n",
    "interval = 0\n",
    "x = prd.transpose(x, interval)\n",
    "y = prd.transpose(y, interval)\n",
    "print(x.T)\n",
    "print(y.T)"
   ]
  },
  {
   "cell_type": "code",
   "execution_count": 27,
   "metadata": {},
   "outputs": [
    {
     "name": "stdout",
     "output_type": "stream",
     "text": [
      "29 28\n",
      "tensor([[ 66,  64,  63,  61,  59,  64,  66,  64,  63,  61,  59, 128,  71,  64,\n",
      "          66,  71,  66,  64,  63,  61,  59,  64,  66,  64,  63,  61,  59, 130],\n",
      "        [  6,   6,   6,   6,   9,  15,   6,   6,   6,   6,  22,   9,   9,   9,\n",
      "           9,   9,   6,   6,   6,   6,   9,  15,   6,   6,   6,   6,  22,   2]])\n",
      "tensor([[ 66,  64,  66,  71,  71,  66,  71,  71,  66,  64,  71,  66,  71,  64,\n",
      "          66,  64,  64,  66,  71,  64,  66,  64,  64,  64,  71,  66,  64,  64,\n",
      "         130],\n",
      "        [  9,   9,   9,   9,   9,   9,   9,   9,   9,   9,   9,   9,   9,   9,\n",
      "           9,   9,   9,   9,   9,   9,   9,   9,   9,   9,   9,   9,   9,   9,\n",
      "           2]])\n"
     ]
    }
   ],
   "source": [
    "# x, y = dataset[2500]\n",
    "# new_encoder = Encoder(\n",
    "#     pitch_dims=[dataset.pitch_dim, 12 + 4],\n",
    "#     duration_dims=[dataset.duration_dim, 16],\n",
    "#     hidden_dim=hidden_dim,\n",
    "#     num_layers=1,\n",
    "# )\n",
    "\n",
    "with torch.no_grad():\n",
    "    hidden = encoder.init_hidden()\n",
    "    for i in range(x.shape[0]-1):\n",
    "        out, hidden = encoder.forward(x[i], hidden)\n",
    "\n",
    "    input = x[-1] \n",
    "    output_tune = []\n",
    "    for i in range(x.shape[0] * 2):\n",
    "        o_pitch, o_duration, hidden = decoder(input, hidden)\n",
    "        top_pitch_i = o_pitch.topk(1)[1].squeeze().detach()\n",
    "        top_duration_i = o_duration.topk(1)[1].squeeze().detach()\n",
    "        input = torch.stack([top_pitch_i, top_duration_i])\n",
    "        if top_pitch_i == dataset.eot_code or top_duration_i == dataset.EOT_DUR_CODE:\n",
    "            output_tune.append(torch.tensor([dataset.eot_code, dataset.EOT_DUR_CODE]))\n",
    "            break\n",
    "        output_tune.append(input)\n",
    "print(len(output_tune), len(y))\n",
    "pred = torch.stack(output_tune)\n",
    "print(y.T)\n",
    "print(pred.T)"
   ]
  },
  {
   "cell_type": "code",
   "execution_count": 28,
   "metadata": {},
   "outputs": [
    {
     "name": "stdout",
     "output_type": "stream",
     "text": [
      "tensor([[ 66,  64,  63,  61,  59,  64,  66,  64,  63,  61,  59, 128,  71,  64,\n",
      "          66,  71,  66,  64,  63,  61,  59,  64,  66,  64,  63,  61,  59, 130],\n",
      "        [  6,   6,   6,   6,  12,  24,   6,   6,   6,   6,  48,  12,  12,  12,\n",
      "          12,  12,   6,   6,   6,   6,  12,  24,   6,   6,   6,   6,  48,  -1]])\n",
      "tensor([[ 66,  64,  66,  71,  71,  66,  71,  71,  66,  64,  71,  66,  71,  64,\n",
      "          66,  64,  64,  66,  71,  64,  66,  64,  64,  64,  71,  66,  64,  64,\n",
      "         130],\n",
      "        [ 12,  12,  12,  12,  12,  12,  12,  12,  12,  12,  12,  12,  12,  12,\n",
      "          12,  12,  12,  12,  12,  12,  12,  12,  12,  12,  12,  12,  12,  12,\n",
      "          -1]])\n"
     ]
    }
   ],
   "source": [
    "dx = dataset.decode_durations([x.clone()])[0]\n",
    "dy = dataset.decode_durations([y.clone()])[0]\n",
    "dpred = dataset.decode_durations([pred.clone()])[0]\n",
    "print(dy.T)\n",
    "print(dpred.T)\n",
    "\n",
    "out_dir = \"../data_out/\"\n",
    "tune = torch.concat([dx, dy])[1:-1].detach().numpy()\n",
    "music = prd.to_muspy(tune, title=\"gt\")\n",
    "mp.write_midi(f\"{out_dir}gt.mid\", music)\n",
    "\n",
    "tune = torch.concat([dx, dpred])[1:-1].detach().numpy()\n",
    "music = prd.to_muspy(tune, title=\"pred\")\n",
    "mp.write_midi(f\"{out_dir}pred.mid\", music)"
   ]
  },
  {
   "cell_type": "code",
   "execution_count": null,
   "metadata": {},
   "outputs": [
    {
     "name": "stdout",
     "output_type": "stream",
     "text": [
      "torch.Size([10, 64])\n"
     ]
    }
   ],
   "source": [
    "encoder_outputs = torch.zeros(10, encoder.hidden_dim)\n",
    "print(encoder_outputs.shape)"
   ]
  },
  {
   "cell_type": "code",
   "execution_count": null,
   "metadata": {},
   "outputs": [],
   "source": [
    "model_path = \"../models/serialized/\"\n",
    "torch.save({\n",
    "    \"encoder\": encoder.state_dict(),\n",
    "    \"decoder\": decoder.state_dict(),\n",
    "}, f\"{model_path}s2s_100samples.pt\")"
   ]
  },
  {
   "cell_type": "code",
   "execution_count": null,
   "metadata": {},
   "outputs": [
    {
     "data": {
      "text/plain": [
       "Encoder(\n",
       "  (pitch_embedding): Embedding(131, 16)\n",
       "  (duration_embedding): Embedding(18, 16)\n",
       "  (gru): GRU(32, 64)\n",
       ")"
      ]
     },
     "execution_count": 259,
     "metadata": {},
     "output_type": "execute_result"
    }
   ],
   "source": [
    "dec = cp.deepcopy(decoder)\n",
    "enc = cp.deepcopy(encoder)\n",
    "checkpoint = torch.load(f\"{model_path}s2s_100samples.pt\")\n",
    "enc.load_state_dict(checkpoint[\"encoder\"])\n",
    "dec.load_state_dict(checkpoint[\"decoder\"])"
   ]
  }
 ],
 "metadata": {
  "kernelspec": {
   "display_name": "Python 3.10.6 64-bit",
   "language": "python",
   "name": "python3"
  },
  "language_info": {
   "codemirror_mode": {
    "name": "ipython",
    "version": 3
   },
   "file_extension": ".py",
   "mimetype": "text/x-python",
   "name": "python",
   "nbconvert_exporter": "python",
   "pygments_lexer": "ipython3",
   "version": "3.10.6"
  },
  "orig_nbformat": 4,
  "vscode": {
   "interpreter": {
    "hash": "31f2aee4e71d21fbe5cf8b01ff0e069b9275f58929596ceb00d14d90e3e16cd6"
   }
  }
 },
 "nbformat": 4,
 "nbformat_minor": 2
}
