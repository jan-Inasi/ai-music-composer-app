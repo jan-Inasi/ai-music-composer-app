{
 "cells": [
  {
   "cell_type": "code",
   "execution_count": 1,
   "metadata": {},
   "outputs": [],
   "source": [
    "import muspy as mp\n",
    "import sys\n",
    "\n",
    "sys.path.append(sys.path[0] + \"/..\")\n",
    "import lib.prd as prd\n",
    "import torch\n",
    "import matplotlib.pyplot as plt\n",
    "import numpy as np"
   ]
  },
  {
   "cell_type": "code",
   "execution_count": 3,
   "metadata": {},
   "outputs": [
    {
     "data": {
      "text/plain": [
       "9034"
      ]
     },
     "execution_count": 3,
     "metadata": {},
     "output_type": "execute_result"
    }
   ],
   "source": [
    "ds_muspy = mp.datasets.EssenFolkSongDatabase(\"../data\")\n",
    "len(ds_muspy)\n",
    "\n",
    "\n",
    "# ds_prd = []\n",
    "# fail_counter = 0\n",
    "# nr = 9\n",
    "# for i, music in enumerate(ds_muspy):\n",
    "#     try:\n",
    "#         track_prd = prd.from_muspy(music)\n",
    "#     except Exception:\n",
    "#         continue\n",
    "#     else:\n",
    "#         ds_prd.append(torch.tensor(track_prd))\n",
    "# print(f\"successfully converted: {len(ds_prd)}/{len(ds_muspy)}\")"
   ]
  },
  {
   "cell_type": "code",
   "execution_count": 43,
   "metadata": {},
   "outputs": [],
   "source": [
    "from collections import Counter\n",
    "\n",
    "def duration_set(music):\n",
    "    return tuple(sorted(list(set(n.duration for n in music.tracks[0].notes))))\n",
    "\n",
    "duration_collections = Counter((duration_set(music) for music in ds_muspy))"
   ]
  },
  {
   "cell_type": "code",
   "execution_count": 57,
   "metadata": {},
   "outputs": [
    {
     "name": "stdout",
     "output_type": "stream",
     "text": [
      "  951 (12, 24, 36, 48)\n",
      "  893 (6, 12, 18, 24)\n",
      "  812 (12, 24)\n",
      "  681 (12, 24, 36)\n",
      "  607 (12, 24, 48)\n",
      "  590 (6, 12, 18, 24, 36)\n",
      "  569 (6, 12, 18, 24, 36, 48)\n",
      "  564 (6, 12, 24)\n",
      "  329 (6, 12, 18, 24, 48)\n",
      "  293 (6, 12, 24, 36)\n",
      "  226 (12, 24, 36, 48, 72)\n",
      "  174 (24, 48)\n",
      "  154 (6, 12, 24, 36, 48)\n",
      "  118 (12, 24, 48, 72)\n",
      "  117 (6, 12, 24, 48)\n",
      "   95 (24, 48, 72)\n",
      "   83 (24, 48, 72, 96, 144)\n",
      "   69 (6, 12, 18, 24, 36, 48, 72)\n",
      "   69 (48, 96, 144)\n",
      "   58 (12, 24, 36, 48, 96)\n",
      "   58 (24, 48, 72, 96)\n",
      "   51 (24, 48, 96)\n",
      "   51 (48, 96)\n",
      "   43 (6, 12, 18)\n",
      "   35 (6, 8, 12, 18, 24, 36, 48)\n",
      "   35 (8, 12, 24)\n",
      "   35 (24, 48, 72, 96, 192)\n",
      "   34 (6, 12)\n",
      "   32 (48, 96, 144, 192)\n",
      "   31 (6, 12, 18, 24, 36, 60)\n",
      "   29 (12, 24, 36, 48, 72, 96)\n",
      "   29 (12, 24, 36, 72)\n",
      "   25 (12, 24, 48, 96)\n",
      "   24 (6, 12, 18, 24, 36, 48, 60)\n",
      "   24 (48, 96, 192)\n",
      "   21 (8, 12, 24, 36)\n",
      "   21 (24, 48, 72, 96, 144, 192)\n",
      "   20 (12, 24, 36, 60)\n",
      "   18 (12, 24, 48, 72, 96)\n",
      "   18 (12, 24, 72)\n",
      "   18 (8, 12, 24, 36, 48)\n",
      "   18 (24, 48, 96, 144)\n",
      "   17 (3, 6, 9, 12, 18, 24)\n",
      "   17 (8, 12, 24, 48)\n",
      "   16 (12, 24, 36, 48, 60)\n",
      "   15 (3, 6, 9, 12, 18, 24, 36, 48)\n",
      "   15 (24,)\n",
      "   14 (6, 12, 18, 36, 48)\n",
      "   14 (6, 12, 24, 36, 48, 72)\n",
      "   14 (48, 96, 144, 192, 288)\n",
      "   13 (6, 12, 18, 24, 36, 48, 96)\n",
      "   13 (6, 8, 12, 18, 24, 36)\n",
      "   13 (6, 12, 18, 36)\n",
      "   13 (6, 8, 12, 18, 24)\n",
      "   13 (6, 12, 18, 24, 60)\n",
      "   12 (6, 12, 18, 24, 48, 60)\n",
      "   12 (6, 12, 18, 24, 48, 72)\n",
      "   12 (3, 6, 9, 12, 18, 24, 48)\n",
      "   12 (6, 12, 18, 24, 36, 72)\n",
      "   12 (6, 8, 12, 24)\n",
      "   11 (6, 12, 18, 24, 72)\n",
      "   11 (6, 12, 36)\n",
      "   11 (24, 48, 72, 120)\n",
      "   11 (12,)\n",
      "   10 (6, 12, 18, 24, 48, 96)\n",
      "    9 (6, 12, 18, 48)\n",
      "    9 (6, 12, 24, 36, 48, 60)\n",
      "    9 (12, 36, 48)\n",
      "    9 (4, 6, 12, 24)\n",
      "    8 (6, 8, 12, 24, 36, 48)\n",
      "    8 (6, 8, 12, 18, 24, 48)\n",
      "    8 (6, 8, 12, 24, 36)\n",
      "    8 (12, 24, 60)\n",
      "    8 (24, 48, 96, 144, 192)\n",
      "    8 (48, 96, 192, 384)\n",
      "    7 (6, 12, 24, 48, 72)\n",
      "    7 (3, 6, 9, 12, 24)\n",
      "    7 (24, 48, 96, 192)\n",
      "    6 (6, 12, 24, 36, 48, 96)\n",
      "    6 (6, 12, 24, 36, 60)\n",
      "    6 (12, 36)\n",
      "    6 (6, 12, 18, 24, 48, 72, 96)\n",
      "    6 (6, 12, 24, 60)\n",
      "    6 (12, 24, 36, 48, 120)\n",
      "    5 (4, 6, 12, 24, 36)\n",
      "    5 (3, 6, 12, 18, 24)\n",
      "    5 (4, 6, 12, 18, 24)\n",
      "    5 (3, 6, 9, 12, 18, 24, 36)\n",
      "    5 (6, 12, 18, 24, 36, 48, 72, 96)\n",
      "    5 (6, 12, 24, 96)\n",
      "    5 (6, 12, 48)\n",
      "    5 (6, 12, 36, 48)\n",
      "    5 (12, 24, 36, 48, 72, 120)\n",
      "    5 (48, 96, 144, 240)\n",
      "    5 (96, 192, 288)\n",
      "    5 (8, 12, 24, 48, 72)\n",
      "    4 (6, 12, 18, 24, 36, 96)\n",
      "    4 (3, 4, 6, 9, 12, 18, 24)\n",
      "    4 (3, 6, 12, 18, 24, 36, 48)\n",
      "    4 (6, 12, 18, 24, 36, 48, 84)\n",
      "    4 (6, 12, 18, 24, 96)\n",
      "    4 (6, 12, 18, 24, 30)\n",
      "    4 (6, 12, 24, 72)\n",
      "    4 (6, 12, 18, 24, 36, 48, 60, 72)\n",
      "    4 (6, 12, 24, 48, 96)\n",
      "    4 (48, 96, 144, 192, 384)\n",
      "    4 (12, 24, 96)\n",
      "    3 (4, 6, 12, 24, 36, 48)\n",
      "    3 (3, 6, 12, 24, 36, 48)\n",
      "    3 (4, 6, 12, 18, 24, 36, 48)\n",
      "    3 (6, 12, 18, 24, 36, 42, 48)\n",
      "    3 (6, 12, 24, 30, 36)\n",
      "    3 (6, 12, 18, 24, 30, 36, 48)\n",
      "    3 (6, 18, 24, 48)\n",
      "    3 (6, 18, 24)\n",
      "    3 (12, 24, 36, 72, 96)\n",
      "    3 (6, 12, 24, 36, 72)\n",
      "    3 (24, 72)\n",
      "    3 (12, 24, 48, 60)\n",
      "    3 (8, 12, 24, 36, 48, 72)\n",
      "    2 (6, 12, 18, 24, 36, 42, 48, 72)\n",
      "    2 (6, 12, 48, 72)\n",
      "    2 (6, 8, 12, 18, 24, 72)\n",
      "    2 (3, 6, 9, 12, 18, 48)\n",
      "    2 (3, 6, 9, 12, 18, 24, 36, 48, 96)\n",
      "    2 (4, 6, 12, 18, 24, 36, 48, 72)\n",
      "    2 (6, 12, 18, 24, 36, 48, 60, 96)\n",
      "    2 (6, 12, 24, 30, 36, 48, 72)\n",
      "    2 (6, 12, 24, 30, 36, 48)\n",
      "    2 (6, 12, 18, 24, 36, 48, 72, 84)\n",
      "    2 (6, 12, 18, 24, 36, 48, 84, 96)\n",
      "    2 (4, 6, 12, 18, 24, 36, 60)\n",
      "    2 (3, 6, 9, 12, 18, 24, 36, 48, 72, 84)\n",
      "    2 (6, 12, 18, 48, 60)\n",
      "    2 (3, 6, 9, 12, 24, 36, 48)\n",
      "    2 (6, 12, 24, 42, 48)\n",
      "    2 (4, 6, 12, 24, 48)\n",
      "    2 (3, 6, 12, 18, 24, 48)\n",
      "    2 (6, 12, 24, 36, 60, 72)\n",
      "    2 (6, 12, 18, 36, 48, 60)\n",
      "    2 (6, 8, 12, 24, 36, 48, 72)\n",
      "    2 (6, 8, 12, 18, 24, 48, 60, 72, 84, 96)\n",
      "    2 (6, 12, 24, 36, 48, 60, 72, 96)\n",
      "    2 (6, 12, 24, 48, 72, 96)\n",
      "    2 (6, 12, 24, 48, 60, 72)\n",
      "    2 (6, 12, 24, 36, 48, 72, 96)\n",
      "    2 (6, 12, 24, 30, 36, 48, 60)\n",
      "    2 (6, 12, 24, 36, 48, 60, 72)\n",
      "    2 (6, 12, 18, 24, 60, 72)\n",
      "    2 (6, 12, 48, 60)\n",
      "    2 (6, 8, 12, 18, 24, 48, 72)\n",
      "    2 (6, 8, 12, 18, 24, 36, 48, 72)\n",
      "    2 (6, 12, 18, 24, 36, 60, 84)\n",
      "    2 (3, 6, 12, 18, 24, 36)\n",
      "    2 (3, 6, 9, 12, 18)\n",
      "    2 (12, 24, 48, 120)\n",
      "    2 (12, 24, 48, 72, 84, 264)\n",
      "    2 (6, 12, 18, 24, 36, 48, 66, 72)\n",
      "    2 (12, 24, 36, 60, 72)\n",
      "    2 (4, 6, 12, 18, 24, 36)\n",
      "    2 (12, 16, 24, 36, 48)\n",
      "    2 (12, 24, 48, 72, 96, 144)\n",
      "    2 (48, 96, 192, 288)\n",
      "    2 (48, 96, 144, 288)\n",
      "    2 (48,)\n",
      "    2 (12, 16, 24, 48)\n",
      "    2 (12, 24, 36, 48, 60, 72)\n",
      "    2 (6, 12, 18, 24, 36, 60, 72)\n",
      "    2 (12, 48)\n",
      "    2 (3, 6, 9, 12, 24, 36, 48, 96)\n",
      "    1 (6, 12, 18, 24, 36, 42, 48, 60)\n",
      "    1 (6, 12, 18, 24, 48, 120)\n",
      "    1 (6, 12, 18, 48, 96)\n",
      "    1 (3, 6, 12, 18, 48)\n",
      "    1 (3, 6, 9, 12, 24, 36, 42, 48, 72, 96)\n",
      "    1 (6, 8, 12, 24, 36, 42, 48)\n",
      "    1 (3, 6, 9, 12, 18, 24, 30, 36, 48)\n",
      "    1 (6, 12, 24, 36, 48, 120)\n",
      "    1 (6, 12, 18, 24, 36, 42, 60)\n",
      "    1 (3, 6, 9, 12, 18, 24, 72)\n",
      "    1 (6, 12, 24, 60, 72)\n",
      "    1 (3, 6, 9, 12, 24, 48, 54)\n",
      "    1 (4, 6, 12, 48, 60)\n",
      "    1 (3, 6, 12, 24, 30, 36, 60)\n",
      "    1 (12, 48, 60)\n",
      "    1 (6, 12, 60)\n",
      "    1 (3, 6, 9, 12, 18, 24, 36, 48, 72, 78, 84, 96)\n",
      "    1 (6, 12, 18, 24, 48, 72, 84, 108)\n",
      "    1 (6, 12, 18, 24, 36, 48, 60, 84, 96, 120)\n",
      "    1 (6, 12, 18, 24, 48, 84)\n",
      "    1 (6, 12, 18, 36, 48, 96)\n",
      "    1 (3, 6, 12, 18, 24, 36, 48, 60)\n",
      "    1 (4, 6, 8, 12, 18, 24, 36, 48)\n",
      "    1 (6, 12, 18, 30, 36, 54, 72)\n",
      "    1 (3, 6, 12, 18, 24, 30, 36, 42, 48, 66, 72, 90, 96)\n",
      "    1 (6, 12, 18, 24, 48, 72, 120)\n",
      "    1 (3, 6, 12, 18, 36, 48)\n",
      "    1 (3, 6, 9, 12, 18, 24, 36, 42, 48, 72, 84, 96, 108)\n",
      "    1 (6, 12, 18, 24, 36, 42, 48, 54, 60, 96)\n",
      "    1 (4, 6, 12, 18, 30, 36, 48)\n",
      "    1 (6, 12, 18, 24, 48, 60, 72, 96)\n",
      "    1 (6, 12, 18, 24, 48, 60, 72, 84, 120)\n",
      "    1 (3, 4, 6, 12, 24, 36, 48, 60, 84)\n",
      "    1 (4, 6, 12, 48, 96)\n",
      "    1 (6, 12, 18, 24, 30, 36, 48, 54)\n",
      "    1 (3, 6, 9, 12, 24, 36)\n",
      "    1 (6, 12, 24, 60, 72, 96)\n",
      "    1 (3, 4, 6, 9, 12, 18, 24, 30, 36, 60, 72)\n",
      "    1 (3, 6, 12, 18, 24, 30, 36, 48)\n",
      "    1 (6, 8, 12, 18, 24, 36, 72)\n",
      "    1 (6, 12, 18, 24, 72, 96, 120, 156)\n",
      "    1 (4, 6, 12, 24, 36, 72)\n",
      "    1 (6, 12, 24, 36, 48, 60, 108)\n",
      "    1 (6, 12, 18, 24, 36, 42, 48, 72, 84)\n",
      "    1 (3, 6, 9, 12, 24, 48)\n",
      "    1 (6, 12, 18, 72, 96)\n",
      "    1 (6, 12, 18, 48, 54, 72)\n",
      "    1 (3, 6, 9, 12, 24, 36, 48, 72)\n",
      "    1 (3, 4, 6, 8, 12, 18, 24, 36, 48)\n",
      "    1 (3, 6, 9, 12, 18, 24, 36, 72)\n",
      "    1 (6, 8, 12, 60, 72)\n",
      "    1 (4, 12, 24, 36, 48, 72)\n",
      "    1 (3, 6, 9, 12, 24, 30, 36)\n",
      "    1 (3, 6, 8, 12, 24, 36, 60, 84)\n",
      "    1 (3, 6, 8, 12, 18, 24, 36, 48)\n",
      "    1 (6, 12, 18, 24, 48, 60, 72)\n",
      "    1 (4, 6, 12, 36, 48)\n",
      "    1 (3, 4, 6, 12, 18, 24, 36)\n",
      "    1 (12, 24, 48, 60, 72, 84)\n",
      "    1 (3, 6, 12, 18, 24, 36, 48, 72)\n",
      "    1 (3, 6, 9, 12, 18, 24, 36, 48, 72)\n",
      "    1 (6, 12, 18, 24, 36, 48, 60, 96, 108)\n",
      "    1 (4, 6, 12, 24, 36, 48, 72)\n",
      "    1 (6, 8, 12, 18, 24, 30, 36, 48, 96)\n",
      "    1 (6, 8, 12, 24, 28, 36, 48)\n",
      "    1 (6, 8, 12, 18, 24, 48, 60)\n",
      "    1 (6, 12, 24, 36, 42, 48, 60)\n",
      "    1 (3, 4, 6, 9, 12, 15, 18, 24, 48)\n",
      "    1 (3, 6, 12, 18, 24, 48, 84)\n",
      "    1 (6, 12, 18, 24, 60, 84, 120)\n",
      "    1 (3, 6, 12, 18, 24, 30, 48, 72, 96)\n",
      "    1 (6, 12, 24, 36, 48, 60, 90, 96)\n",
      "    1 (3, 4, 6, 9, 12, 24, 30, 36, 48)\n",
      "    1 (6, 12, 24, 48, 60, 96)\n",
      "    1 (6, 12, 48, 60, 84)\n",
      "    1 (6, 12, 18, 24, 48, 72, 84)\n",
      "    1 (6, 8, 12, 24, 36, 48, 96)\n",
      "    1 (3, 6, 8, 12, 36, 48)\n",
      "    1 (2, 3, 6, 9, 12, 24, 30, 36, 48)\n",
      "    1 (3, 4, 6, 9, 12, 18, 21, 24)\n",
      "    1 (2, 3, 4, 6, 9, 12, 18, 24, 30, 36, 42, 48)\n",
      "    1 (3, 4, 6, 9, 12, 18, 24, 48)\n",
      "    1 (2, 3, 6, 9, 12, 48)\n",
      "    1 (3, 6, 12, 18, 24, 36, 48, 96)\n",
      "    1 (3, 6, 12, 18, 24, 36, 48, 66, 84, 96, 108)\n",
      "    1 (6, 12, 24, 36, 48, 60, 84, 96)\n",
      "    1 (6, 12, 18, 48, 60, 72, 84, 96)\n",
      "    1 (6, 12, 18, 24, 36, 72, 96)\n",
      "    1 (4, 6, 12, 24, 36, 48, 60, 72, 96)\n",
      "    1 (6, 12, 18, 24, 36, 96, 192)\n",
      "    1 (4, 6, 12, 18, 24, 48, 60, 72)\n",
      "    1 (6, 12, 18, 36, 72)\n",
      "    1 (6, 12, 18, 24, 84, 96)\n",
      "    1 (6, 12, 18, 24, 36, 60, 72, 84, 96)\n",
      "    1 (6, 12, 24, 96, 120)\n",
      "    1 (6, 12, 18, 24, 72, 96)\n",
      "    1 (6, 12, 24, 48, 72, 96, 120)\n",
      "    1 (4, 6, 12, 18, 24, 36, 48, 72, 84)\n",
      "    1 (6, 12, 18, 24, 72, 84)\n",
      "    1 (3, 6, 9, 12, 18, 36, 48)\n",
      "    1 (12, 24, 36, 48, 60, 72, 96)\n",
      "    1 (4, 6, 12, 18, 24, 36, 42, 48)\n",
      "    1 (4, 6, 12, 36, 60)\n",
      "    1 (4, 6, 8, 12, 24, 40, 48)\n",
      "    1 (6, 12, 24, 36, 48, 132, 252, 372, 1332)\n",
      "    1 (12, 24, 36, 120)\n",
      "    1 (12, 24, 48, 144, 156, 192)\n",
      "    1 (6, 12, 24, 36, 48, 72, 144)\n",
      "    1 (3, 6, 9, 12, 18, 24, 36, 42)\n",
      "    1 (4, 6, 12, 18, 24, 36, 42, 60, 72)\n",
      "    1 (4, 6, 12, 18, 24, 60)\n",
      "    1 (6, 12, 24, 36, 84)\n",
      "    1 (6, 12, 18, 48, 72)\n",
      "    1 (6, 12, 18, 24, 36, 48, 60, 72, 96)\n",
      "    1 (6, 24, 36, 48)\n",
      "    1 (6, 8, 12, 18, 24, 36, 42, 48, 84)\n",
      "    1 (6, 12, 48, 60, 72)\n",
      "    1 (6, 12, 36, 48, 72)\n",
      "    1 (6, 8, 12, 36, 48)\n",
      "    1 (6, 8, 12, 24, 36, 48, 60)\n",
      "    1 (4, 6, 12, 24, 48, 66)\n",
      "    1 (6, 12, 18, 24, 36, 132)\n",
      "    1 (6, 12, 18, 24, 30, 36, 48, 72)\n",
      "    1 (4, 12, 24)\n",
      "    1 (6, 12, 18, 24, 48, 66)\n",
      "    1 (4, 6, 12, 18, 24, 48)\n",
      "    1 (2, 3, 6, 9, 12, 18, 24)\n",
      "    1 (3, 6, 9, 12, 18, 24, 48, 72)\n",
      "    1 (6, 12, 24, 36, 48, 72, 120)\n",
      "    1 (6, 12, 18, 24, 42, 48, 72)\n",
      "    1 (6, 18, 24, 42, 48, 66, 72)\n",
      "    1 (6, 12, 24, 36, 42, 48)\n",
      "    1 (6, 12, 18, 24, 42, 72)\n",
      "    1 (6, 12, 18, 24, 30, 36, 42, 48)\n",
      "    1 (6, 12, 24, 36, 48, 66, 72)\n",
      "    1 (6, 8, 12, 18, 24, 32, 36, 48)\n",
      "    1 (6, 12, 24, 36, 42, 48, 72)\n",
      "    1 (6, 8, 12, 16, 18, 24, 36)\n",
      "    1 (6, 12, 18, 24, 48, 66, 72)\n",
      "    1 (4, 12, 24, 48)\n",
      "    1 (3, 9, 12, 24)\n",
      "    1 (8, 12, 16, 24, 32, 72)\n",
      "    1 (12, 18, 24, 36, 48)\n",
      "    1 (8, 12, 24, 36, 48, 96)\n",
      "    1 (4, 6, 8, 12, 24)\n",
      "    1 (6, 8, 12, 16, 24)\n",
      "    1 (96, 192, 384)\n",
      "    1 (24, 48, 96, 144, 240)\n",
      "    1 (24, 48, 72, 96, 144, 168, 192, 240)\n",
      "    1 (12, 48, 72, 96)\n",
      "    1 (16, 24, 32, 48, 72, 96, 192)\n",
      "    1 (12, 24, 36, 48, 72, 96, 144)\n",
      "    1 (48, 96, 240)\n",
      "    1 (32, 48, 64, 96)\n",
      "    1 (24, 72, 96, 192)\n",
      "    1 (24, 48, 72, 96, 240)\n",
      "    1 (24, 48, 72, 96, 168, 192)\n",
      "    1 (16, 32, 48, 64, 96)\n",
      "    1 (24, 48, 72, 96, 192, 288)\n",
      "    1 (24, 48, 96, 144, 192, 288)\n",
      "    1 (24, 48, 96, 192, 288)\n",
      "    1 (24, 48, 72, 96, 144, 192, 384)\n",
      "    1 (8, 12, 16, 24, 32, 36, 48, 72)\n",
      "    1 (48, 96, 288)\n",
      "    1 (12, 24, 48, 96, 120)\n",
      "    1 (12, 24, 48, 72, 96, 192)\n",
      "    1 (12, 24, 48, 96, 144, 192)\n",
      "    1 (24, 48, 72, 144)\n",
      "    1 (48, 96, 144, 192, 336)\n",
      "    1 (32, 48, 64, 96, 144)\n",
      "    1 (24, 32, 48, 64, 72, 96, 144)\n",
      "    1 (4, 6, 8, 12, 18, 24, 36)\n",
      "    1 (12, 24, 36, 48, 96, 144)\n",
      "    1 (12, 16, 24)\n",
      "    1 (24, 96)\n",
      "    1 (8, 12, 16, 24, 32, 36, 48)\n",
      "    1 (12, 24, 32, 48)\n",
      "    1 (3, 6, 9, 12, 36)\n",
      "    1 (12, 24, 36, 84)\n",
      "    1 (12, 16, 24, 48, 72)\n",
      "    1 (6, 8, 12, 16, 18, 24, 36, 48)\n",
      "    1 (12, 24, 48, 72, 144)\n",
      "    1 (12, 24, 36, 48, 72, 144)\n",
      "    1 (24, 48, 120)\n",
      "    1 (4, 6, 8, 12, 18)\n",
      "    1 (8, 12, 16, 24, 36, 48)\n",
      "    1 (6, 12, 16, 18, 24, 36)\n",
      "    1 (6, 8, 12, 16, 24, 36)\n",
      "    1 (6, 12, 24, 48, 60)\n",
      "    1 (12, 24, 48, 72, 120)\n",
      "    1 (24, 48, 144)\n",
      "    1 (6, 8, 12, 18, 24, 36, 48, 66, 72)\n",
      "    1 (3, 6, 8, 9, 12, 24, 36)\n",
      "    1 (12, 24, 36, 96)\n",
      "    1 (6, 12, 18, 24, 36, 48, 60, 66, 72)\n",
      "    1 (4, 8, 12, 24, 36, 48)\n",
      "    1 (6, 12, 18, 24, 30, 36, 48, 54, 60, 72, 84)\n",
      "    1 (3, 4, 6, 8, 9, 12, 18, 24, 48)\n",
      "    1 (6, 12, 18, 36, 48, 72)\n",
      "    1 (12, 16, 24, 36, 72)\n",
      "    1 (8, 12, 24, 36, 72)\n",
      "    1 (8, 12, 36, 48)\n",
      "    1 (6, 8, 12, 24, 96)\n",
      "    1 (6, 12, 24, 36, 42)\n",
      "    1 (4, 6, 8, 12, 18, 24)\n",
      "    1 (12, 24, 36, 48, 72, 84, 96)\n",
      "    1 (12, 24, 36, 48, 72, 84, 120)\n",
      "    1 (6, 18, 24, 48, 120)\n",
      "    1 (6, 12, 18, 36, 60)\n",
      "    1 (6, 12, 18, 60)\n",
      "    1 (12, 24, 36, 48, 72, 96, 120)\n",
      "    1 (8, 12, 24, 72)\n",
      "    1 (16, 24, 48, 96)\n",
      "    1 (12, 24, 36, 48, 84)\n",
      "    1 (6, 12, 18, 24, 36, 48, 60, 72, 84)\n",
      "    1 (12, 24, 36, 72, 120)\n",
      "    1 (6, 8, 12, 18, 24, 30, 36, 48)\n",
      "    1 (6, 12, 18, 24, 36, 48, 72, 96, 120)\n",
      "    1 (6, 12, 18, 24, 36, 54)\n",
      "    1 (12, 24, 36, 48, 72, 96, 240)\n",
      "    1 (6, 8, 12, 18, 24, 32, 36, 48, 96)\n",
      "    1 (4, 8, 12, 24, 48)\n",
      "    1 (4, 6, 8, 12, 16, 24, 64, 96)\n",
      "    1 (12, 18, 24, 36, 48, 108, 132, 138)\n",
      "    1 (12, 24, 36, 48, 84, 96)\n",
      "    1 (6, 12, 18, 24, 42, 48)\n",
      "    1 (6, 12, 18, 24, 42, 60)\n"
     ]
    }
   ],
   "source": [
    "for durs, count in dict(sorted(duration_collections.items(), key=lambda item: item[1], reverse=True)).items():\n",
    "    print(f\"{count:5} {durs}\")"
   ]
  },
  {
   "cell_type": "code",
   "execution_count": 56,
   "metadata": {},
   "outputs": [
    {
     "data": {
      "text/plain": [
       "0.7"
      ]
     },
     "execution_count": 56,
     "metadata": {},
     "output_type": "execute_result"
    }
   ],
   "source": [
    "ds_muspy\n",
    "mp.scale_consistency(ds_muspy[100])\n",
    "    \n",
    "\n",
    "min((mp.scale_consistency(music) for music in ds_muspy))"
   ]
  },
  {
   "cell_type": "code",
   "execution_count": 45,
   "metadata": {},
   "outputs": [
    {
     "data": {
      "text/plain": [
       "397"
      ]
     },
     "execution_count": 45,
     "metadata": {},
     "output_type": "execute_result"
    }
   ],
   "source": [
    "\n",
    "\n",
    "len(duration_collections)"
   ]
  },
  {
   "cell_type": "code",
   "execution_count": 4,
   "metadata": {},
   "outputs": [],
   "source": [
    "dataset = prd.DatasetPRD(ds_prd)"
   ]
  },
  {
   "cell_type": "code",
   "execution_count": 8,
   "metadata": {},
   "outputs": [
    {
     "data": {
      "text/plain": [
       "(tensor([[129,   1],\n",
       "         [ 82,   9],\n",
       "         [ 79,   9],\n",
       "         [ 77,  15],\n",
       "         [ 82,   9],\n",
       "         [ 79,   9],\n",
       "         [ 77,   9],\n",
       "         [ 82,   9],\n",
       "         [ 72,   6],\n",
       "         [ 77,   6],\n",
       "         [ 72,   6],\n",
       "         [ 82,   6],\n",
       "         [ 79,   9],\n",
       "         [ 77,   9],\n",
       "         [ 77,  19],\n",
       "         [ 82,   6]]),\n",
       " tensor([[ 72,   6],\n",
       "         [ 77,   9],\n",
       "         [ 82,   6],\n",
       "         [ 79,   6],\n",
       "         [ 77,   9],\n",
       "         [ 75,   9],\n",
       "         [ 77,  15],\n",
       "         [ 72,   9],\n",
       "         [ 82,   9],\n",
       "         [ 72,   6],\n",
       "         [ 74,   6],\n",
       "         [ 72,   6],\n",
       "         [ 82,   6],\n",
       "         [ 79,   9],\n",
       "         [ 77,  19],\n",
       "         [ 77,  15],\n",
       "         [130,   2]]))"
      ]
     },
     "execution_count": 8,
     "metadata": {},
     "output_type": "execute_result"
    }
   ],
   "source": []
  },
  {
   "cell_type": "code",
   "execution_count": 5,
   "metadata": {},
   "outputs": [],
   "source": [
    "pitch_count = torch.zeros(131)\n",
    "\n",
    "for tune in dataset.tunes:\n",
    "    for i in range(tune.shape[0]):\n",
    "        pitch_count[tune[i, 0]] += 1"
   ]
  },
  {
   "cell_type": "code",
   "execution_count": 17,
   "metadata": {},
   "outputs": [
    {
     "data": {
      "text/plain": [
       "torch.return_types.topk(\n",
       "values=tensor([71599., 59343., 51202., 46850., 45935.]),\n",
       "indices=tensor([69, 67, 72, 74, 71]))"
      ]
     },
     "execution_count": 17,
     "metadata": {},
     "output_type": "execute_result"
    }
   ],
   "source": [
    "pitch_count.topk(5)"
   ]
  },
  {
   "cell_type": "code",
   "execution_count": 16,
   "metadata": {},
   "outputs": [
    {
     "data": {
      "text/plain": [
       "<BarContainer object of 131 artists>"
      ]
     },
     "execution_count": 16,
     "metadata": {},
     "output_type": "execute_result"
    },
    {
     "data": {
      "image/png": "[encoded data removed]",
      "text/plain": [
       "<Figure size 640x480 with 1 Axes>"
      ]
     },
     "metadata": {
      "image/png": {
       "height": 413,
       "width": 569
      }
     },
     "output_type": "display_data"
    }
   ],
   "source": [
    "plt.bar(np.arange(len(pitch_count)), pitch_count.detach().numpy())"
   ]
  },
  {
   "cell_type": "code",
   "execution_count": 23,
   "metadata": {},
   "outputs": [],
   "source": [
    "transposed_pitch_count = torch.zeros(131)\n",
    "\n",
    "for x, y in prd.DatasetPRD(ds_prd, xy_split=[1, 1], trnasposition_augment_range=[-6, 6]):\n",
    "    for i in range(x.shape[0]):\n",
    "        transposed_pitch_count[x[i, 0]] += 1"
   ]
  },
  {
   "cell_type": "code",
   "execution_count": 25,
   "metadata": {},
   "outputs": [
    {
     "data": {
      "text/plain": [
       "<BarContainer object of 131 artists>"
      ]
     },
     "execution_count": 25,
     "metadata": {},
     "output_type": "execute_result"
    },
    {
     "data": {
      "image/png": "[encoded data removed]",
      "text/plain": [
       "<Figure size 640x480 with 1 Axes>"
      ]
     },
     "metadata": {
      "image/png": {
       "height": 413,
       "width": 569
      }
     },
     "output_type": "display_data"
    }
   ],
   "source": [
    "plt.bar(np.arange(len(pitch_count)), transposed_pitch_count)"
   ]
  },
  {
   "cell_type": "code",
   "execution_count": 26,
   "metadata": {},
   "outputs": [],
   "source": [
    "transposed_pitch_count = torch.zeros(131)\n",
    "\n",
    "for x, y in prd.DatasetPRD(ds_prd, xy_split=[1, 1], trnasposition_augment_range=[-18, 18]):\n",
    "    for i in range(x.shape[0]):\n",
    "        transposed_pitch_count[x[i, 0]] += 1"
   ]
  },
  {
   "cell_type": "code",
   "execution_count": 27,
   "metadata": {},
   "outputs": [
    {
     "data": {
      "text/plain": [
       "<BarContainer object of 131 artists>"
      ]
     },
     "execution_count": 27,
     "metadata": {},
     "output_type": "execute_result"
    },
    {
     "data": {
      "image/png": "[encoded data removed]",
      "text/plain": [
       "<Figure size 640x480 with 1 Axes>"
      ]
     },
     "metadata": {
      "image/png": {
       "height": 413,
       "width": 569
      }
     },
     "output_type": "display_data"
    }
   ],
   "source": [
    "plt.bar(np.arange(len(pitch_count)), transposed_pitch_count)"
   ]
  }
 ],
 "metadata": {
  "kernelspec": {
   "display_name": "Python 3.10.6 64-bit",
   "language": "python",
   "name": "python3"
  },
  "language_info": {
   "codemirror_mode": {
    "name": "ipython",
    "version": 3
   },
   "file_extension": ".py",
   "mimetype": "text/x-python",
   "name": "python",
   "nbconvert_exporter": "python",
   "pygments_lexer": "ipython3",
   "version": "3.10.12"
  },
  "orig_nbformat": 4,
  "vscode": {
   "interpreter": {
    "hash": "916dbcbb3f70747c44a77c7bcd40155683ae19c65e1c03b4aa3499c5328201f1"
   }
  }
 },
 "nbformat": 4,
 "nbformat_minor": 2
}
