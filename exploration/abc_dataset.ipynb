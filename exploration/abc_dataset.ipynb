{
 "cells": [
  {
   "cell_type": "code",
   "execution_count": 50,
   "metadata": {},
   "outputs": [],
   "source": [
    "import glob\n",
    "import torch\n",
    "import re\n",
    "import io\n",
    "import dataclasses as dc\n",
    "from typing import Iterator, Iterable\n",
    "from typing import List, Optional\n",
    "import music21 as m21"
   ]
  },
  {
   "cell_type": "code",
   "execution_count": 3,
   "metadata": {},
   "outputs": [],
   "source": [
    "path = \"../data/esac\"\n"
   ]
  },
  {
   "cell_type": "markdown",
   "metadata": {},
   "source": []
  },
  {
   "cell_type": "code",
   "execution_count": 68,
   "metadata": {},
   "outputs": [
    {
     "name": "stdout",
     "output_type": "stream",
     "text": [
      "{'T:', 'K:', 'O:', 'R:', 'S:', 'X:', 'L:', 'N:', 'M:'}\n"
     ]
    }
   ],
   "source": [
    "def browse_dataset(path_specification: str):\n",
    "    abc_file_paths = glob.glob(path_specification)\n",
    "\n",
    "    for path in abc_file_paths:\n",
    "        with open(path, \"r\") as file:\n",
    "            for line in file:\n",
    "                yield line\n",
    "\n",
    "header_set = set()\n",
    "for line in browse_dataset(f\"{path}/*.abc\"):\n",
    "    if re.match(\"^.: \", line):\n",
    "        header_set |= set([line[:2]])\n",
    "\n",
    "# origin_set = set(line for line in browse_dataset(f\"{path}/*.abc\") if re.match(\"^O:\", line))\n",
    "print(header_set)"
   ]
  },
  {
   "cell_type": "code",
   "execution_count": 49,
   "metadata": {},
   "outputs": [],
   "source": [
    "@dc.dataclass\n",
    "class TuneABC:\n",
    "    X: Optional[int] = None\n",
    "    T: Optional[str] = None\n",
    "    N: Optional[str] = None\n",
    "    O: list[str] = dc.field(default_factory=[])\n",
    "    M: Optional[str] = None\n",
    "    L: Optional[str] = None\n",
    "    K: Optional[str] = None\n",
    "    R: Optional[str] = None\n",
    "    S: Optional[str] = None\n",
    "    tune: list[str] = dc.field(default_factory=[])"
   ]
  },
  {
   "cell_type": "code",
   "execution_count": null,
   "metadata": {},
   "outputs": [],
   "source": [
    "def parse_abc_tune(abc_text_lines: list[str]) -> TuneABC:\n",
    "    tune = TuneABC()\n",
    "    for line in abc_text_lines:\n",
    "        mark = line[:2]\n",
    "        if mark == \"X:\":\n",
    "            tune.X = line[3:]\n",
    "        elif mark == \"T:\":\n",
    "            tune.T = line[3:]\n",
    "        elif mark == \"O:\":\n",
    "            tune.O = line[3:]\n",
    "        elif mark == \"M:\":\n",
    "            tune.M = line[3:]\n",
    "        elif mark == \"L:\":\n",
    "            tune.L = line[3:]\n",
    "        elif mark == \"K:\":\n",
    "            tune.K = line[3:]\n",
    "        elif mark == \"R:\":\n",
    "            tune.R = line[3:]\n",
    "        elif mark == \"S:\":\n",
    "            tune.S = line[3:]\n",
    "        else:\n",
    "            tune.tune.append(line)"
   ]
  },
  {
   "cell_type": "code",
   "execution_count": 47,
   "metadata": {},
   "outputs": [],
   "source": [
    "tune = TuneABC()"
   ]
  },
  {
   "cell_type": "code",
   "execution_count": 34,
   "metadata": {},
   "outputs": [
    {
     "data": {
      "text/plain": [
       "2498"
      ]
     },
     "execution_count": 34,
     "metadata": {},
     "output_type": "execute_result"
    }
   ],
   "source": [
    "from collections import Counter\n",
    "counter = Counter()\n",
    "for line in origin_set:\n",
    "    counter.update(line.rstrip().replace(\"O: \", \"\").replace(\",\", \"\").replace(\";\", \"\").split(\" \"))\n",
    "len(counter)"
   ]
  },
  {
   "cell_type": "code",
   "execution_count": null,
   "metadata": {},
   "outputs": [],
   "source": [
    "m21.stream.Part()\n",
    "m21.abcFormat.translate.\n",
    "m21."
   ]
  },
  {
   "cell_type": "code",
   "execution_count": 20,
   "metadata": {},
   "outputs": [],
   "source": [
    "def split_abc_tunes(abc_file_lines: list[str]) -> Iterator[list[str]]:\n",
    "    tune_lines = []\n",
    "    for line in abc_file_lines:\n",
    "        if line == \"\\n\":\n",
    "            if len(tune_lines) > 0:\n",
    "                yield tune_lines\n",
    "        else:\n",
    "            tune_lines.append(line)"
   ]
  },
  {
   "cell_type": "code",
   "execution_count": 52,
   "metadata": {},
   "outputs": [
    {
     "name": "stdout",
     "output_type": "stream",
     "text": [
      "['X:1\\n', 'T: Graf und Nonne (Die Nonne)\\n', 'N: Q0155\\n', 'O: Mitteleuropa, Deutschland\\n', 'R: Ballade, Standesunterschied, vergebliche Werbung, Liebe, Klage\\n', 'M: 6/8\\n', 'L: 1/8\\n', 'K: C\\n', 'G | C2D_E2F | G2GF2\\n', 'G | _A2GF_EF | G3-G2\\n', 'G | G_A_BBAG | G2FF2\\n', 'F | _EFGGFE | _E2DD2\\n', 'G | GF_EDCB, | C3-C2\\n']\n"
     ]
    }
   ],
   "source": [
    "file_path = abc_file_paths[0]\n",
    "with open(file_path) as file:\n",
    "    for abc_tune in split_abc_tunes(file.readlines()):\n",
    "        print(abc_tune)\n",
    "        break"
   ]
  },
  {
   "cell_type": "code",
   "execution_count": 57,
   "metadata": {},
   "outputs": [],
   "source": [
    "abc_file = m21.abcFormat.ABCFile()"
   ]
  },
  {
   "cell_type": "code",
   "execution_count": 59,
   "metadata": {},
   "outputs": [],
   "source": [
    "abc_handler = abc_file.readstr(\"\".join(abc_tune))"
   ]
  },
  {
   "cell_type": "code",
   "execution_count": 65,
   "metadata": {},
   "outputs": [
    {
     "data": {
      "text/plain": [
       "[<music21.abcFormat.ABCHandlerBar at 0x7f6363891d50>,\n",
       " <music21.abcFormat.ABCHandlerBar at 0x7f6363890e80>,\n",
       " <music21.abcFormat.ABCHandlerBar at 0x7f6363892080>,\n",
       " <music21.abcFormat.ABCHandlerBar at 0x7f6363892350>,\n",
       " <music21.abcFormat.ABCHandlerBar at 0x7f6363890970>,\n",
       " <music21.abcFormat.ABCHandlerBar at 0x7f6363892200>,\n",
       " <music21.abcFormat.ABCHandlerBar at 0x7f6363891960>,\n",
       " <music21.abcFormat.ABCHandlerBar at 0x7f6363892410>,\n",
       " <music21.abcFormat.ABCHandlerBar at 0x7f63638909d0>,\n",
       " <music21.abcFormat.ABCHandlerBar at 0x7f6363890e50>,\n",
       " <music21.abcFormat.ABCHandlerBar at 0x7f63638924a0>,\n",
       " <music21.abcFormat.ABCHandlerBar at 0x7f6363892260>]"
      ]
     },
     "execution_count": 65,
     "metadata": {},
     "output_type": "execute_result"
    }
   ],
   "source": [
    "abc_handler.splitByMeasure()"
   ]
  }
 ],
 "metadata": {
  "kernelspec": {
   "display_name": "Python 3",
   "language": "python",
   "name": "python3"
  },
  "language_info": {
   "codemirror_mode": {
    "name": "ipython",
    "version": 3
   },
   "file_extension": ".py",
   "mimetype": "text/x-python",
   "name": "python",
   "nbconvert_exporter": "python",
   "pygments_lexer": "ipython3",
   "version": "3.10.12"
  },
  "orig_nbformat": 4
 },
 "nbformat": 4,
 "nbformat_minor": 2
}
