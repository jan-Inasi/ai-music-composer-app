{
 "cells": [
  {
   "cell_type": "code",
   "execution_count": 1,
   "metadata": {},
   "outputs": [],
   "source": [
    "import numpy as np\n",
    "import torch"
   ]
  },
  {
   "cell_type": "code",
   "execution_count": 2,
   "metadata": {},
   "outputs": [],
   "source": [
    "import sys\n",
    "sys.path.append(sys.path[0] + \"/..\")\n",
    "import models.bar_embedding as bemb"
   ]
  },
  {
   "cell_type": "code",
   "execution_count": 10,
   "metadata": {},
   "outputs": [
    {
     "data": {
      "text/plain": [
       "<module 'models.bar_embedding' from '/home/ignacy/dev/py/mir/exploration/../models/bar_embedding.py'>"
      ]
     },
     "execution_count": 10,
     "metadata": {},
     "output_type": "execute_result"
    }
   ],
   "source": [
    "import importlib\n",
    "importlib.reload(bemb)"
   ]
  },
  {
   "cell_type": "code",
   "execution_count": 24,
   "metadata": {},
   "outputs": [],
   "source": [
    "parts = np.load(\"../data/measures/esac_parts.npy\", allow_pickle=True)\n",
    "MIN_PITCH = 48\n",
    "MAX_PITCH = 94\n",
    "DUR_SIZE = 25"
   ]
  },
  {
   "cell_type": "code",
   "execution_count": 51,
   "metadata": {},
   "outputs": [],
   "source": [
    "def lower_pitch_to_2(measure: torch.Tensor) -> torch.Tensor:\n",
    "    measure = measure.clone()\n",
    "    pitches = measure[:, 0]\n",
    "    true_pitch_idxs = pitches > 1\n",
    "    pitches[true_pitch_idxs] -= MIN_PITCH - 2\n",
    "    measure[:, 0] = pitches\n",
    "    return measure\n",
    "\n",
    "def pad_bar(bar: torch.Tensor, to_pad:int=16, pad_value=0.0) -> torch.Tensor:\n",
    "    bar_len = bar.shape[0]\n",
    "    pad_len = to_pad - bar_len\n",
    "    return torch.nn.functional.pad(\n",
    "        bar, pad=(0, 0, 0, pad_len), mode=\"constant\", value=pad_value\n",
    "    )\n",
    "\n",
    "def encode_measure(measure: tuple[tuple[int, int]]) -> torch.Tensor:\n",
    "    m = torch.tensor(measure)\n",
    "    return pad_bar(lower_pitch_to_2(m))"
   ]
  },
  {
   "cell_type": "code",
   "execution_count": 54,
   "metadata": {},
   "outputs": [],
   "source": [
    "def octavise_bar(bar: torch.Tensor) -> torch.Tensor:\n",
    "    \"\"\"\n",
    "    bar.shape <=> (num_of_notes, 2) pitch and duration\n",
    "    new_bar.shape <=> (num_of_notes, 3) octave, note in octave, duration\n",
    "    \"\"\"\n",
    "\n",
    "    new_bar = torch.zeros((bar.shape[0], 3), dtype=bar.dtype)\n",
    "    true_pitch_idxs = bar[:, 0] > 1\n",
    "\n",
    "    new_bar[~true_pitch_idxs, 0:2] = bar[~true_pitch_idxs, 0].unsqueeze(dim=1)\n",
    "\n",
    "    SPECIAL_PITCH_COUNT = 2\n",
    "\n",
    "    new_bar[true_pitch_idxs, 0] = (\n",
    "        (bar[true_pitch_idxs, 0] - SPECIAL_PITCH_COUNT) // 12\n",
    "    ) + SPECIAL_PITCH_COUNT\n",
    "    new_bar[true_pitch_idxs, 1] = (\n",
    "        bar[true_pitch_idxs, 0] - SPECIAL_PITCH_COUNT\n",
    "    ) % 12 + SPECIAL_PITCH_COUNT\n",
    "    new_bar[:, 2] = bar[:, 1]\n",
    "\n",
    "    return new_bar"
   ]
  },
  {
   "cell_type": "code",
   "execution_count": 55,
   "metadata": {},
   "outputs": [
    {
     "data": {
      "text/plain": [
       "tensor([[21, 10],\n",
       "        [20,  7],\n",
       "        [20,  7],\n",
       "        [ 0,  0],\n",
       "        [ 0,  0],\n",
       "        [ 0,  0],\n",
       "        [ 0,  0],\n",
       "        [ 0,  0],\n",
       "        [ 0,  0],\n",
       "        [ 0,  0],\n",
       "        [ 0,  0],\n",
       "        [ 0,  0],\n",
       "        [ 0,  0],\n",
       "        [ 0,  0],\n",
       "        [ 0,  0],\n",
       "        [ 0,  0]])"
      ]
     },
     "execution_count": 55,
     "metadata": {},
     "output_type": "execute_result"
    }
   ],
   "source": [
    "tensor_parts = []\n",
    "\n",
    "for part in parts:\n",
    "    tensor_parts.append(\n",
    "        torch.stack(\n",
    "            [encode_measure]\n",
    "        )\n",
    "    )\n",
    "encode_measure(parts[4][2])"
   ]
  },
  {
   "cell_type": "code",
   "execution_count": 40,
   "metadata": {},
   "outputs": [
    {
     "data": {
      "text/plain": [
       "<All keys matched successfully>"
      ]
     },
     "execution_count": 40,
     "metadata": {},
     "output_type": "execute_result"
    }
   ],
   "source": [
    "bar_encoder = bemb.Encoder(\n",
    "    pitch_vocab_count=50,\n",
    "    duration_vocab_count=25,\n",
    "    pitch_embedding_dim=16,\n",
    "    duration_embedding_dim=16,\n",
    "    bar_len=16,\n",
    "    bar_embedding_len=4,\n",
    "    out_dim=64\n",
    ")\n",
    "\n",
    "bar_decoder = bemb.Decoder(\n",
    "    in_dimension=64,\n",
    "    octave_vocab=6,\n",
    "    bar_len=16,\n",
    "    duration_vocab=25,\n",
    ")\n",
    "\n",
    "PATH = \"../models/serialized/bar_embedding/\"\n",
    "bar_encoder.load_state_dict(torch.load(f\"{PATH}encoder-v01.pt\")) \n",
    "bar_decoder.load_state_dict(torch.load(f\"{PATH}decoder-v01.pt\"))"
   ]
  },
  {
   "cell_type": "code",
   "execution_count": 50,
   "metadata": {},
   "outputs": [
    {
     "name": "stdout",
     "output_type": "stream",
     "text": [
      "tensor([[14,  0,  0,  0,  0,  0,  0,  0,  0,  0,  0,  0,  0,  0,  0,  0],\n",
      "        [ 7,  0,  0,  0,  0,  0,  0,  0,  0,  0,  0,  0,  0,  0,  0,  0]])\n",
      "tensor([[[3, 1, 0, 0, 0, 0, 0, 0, 0, 0, 0, 0, 0, 0, 0, 0],\n",
      "         [2, 1, 0, 0, 0, 0, 0, 0, 0, 0, 0, 0, 0, 0, 0, 0],\n",
      "         [7, 0, 0, 0, 0, 0, 0, 0, 0, 0, 0, 0, 0, 0, 0, 0]]])\n"
     ]
    }
   ],
   "source": [
    "bar = parts[10][0]\n",
    "print(encode_measure(bar).T)\n",
    "ebar = bar_encoder.forward(encode_measure(bar).unsqueeze(dim=0))\n",
    "o, n, d = bar_decoder.forward(ebar)\n",
    "print(torch.stack([o.argmax(dim=2), n.argmax(dim=2), d.argmax(dim=2)]).swapaxes(0, 1))"
   ]
  },
  {
   "cell_type": "code",
   "execution_count": 12,
   "metadata": {},
   "outputs": [
    {
     "ename": "AttributeError",
     "evalue": "'tuple' object has no attribute 'shape'",
     "output_type": "error",
     "traceback": [
      "\u001b[0;31m---------------------------------------------------------------------------\u001b[0m",
      "\u001b[0;31mAttributeError\u001b[0m                            Traceback (most recent call last)",
      "Cell \u001b[0;32mIn [12], line 1\u001b[0m\n\u001b[0;32m----> 1\u001b[0m ds \u001b[39m=\u001b[39m bemb\u001b[39m.\u001b[39;49mDataset(\u001b[39mlist\u001b[39;49m(\u001b[39mset\u001b[39;49m(bar \u001b[39mfor\u001b[39;49;00m part \u001b[39min\u001b[39;49;00m encoded_parts \u001b[39mfor\u001b[39;49;00m bar \u001b[39min\u001b[39;49;00m part)))\n",
      "File \u001b[0;32m~/dev/py/mir/exploration/../models/bar_embedding.py:111\u001b[0m, in \u001b[0;36mDataset.__init__\u001b[0;34m(self, bars, pad_value)\u001b[0m\n\u001b[1;32m    109\u001b[0m \u001b[39mdef\u001b[39;00m \u001b[39m__init__\u001b[39m(\u001b[39mself\u001b[39m, bars: \u001b[39mlist\u001b[39m[torch\u001b[39m.\u001b[39mTensor] \u001b[39m|\u001b[39m \u001b[39mNone\u001b[39;00m \u001b[39m=\u001b[39m \u001b[39mNone\u001b[39;00m, pad_value: \u001b[39mint\u001b[39m \u001b[39m=\u001b[39m \u001b[39m0\u001b[39m):\n\u001b[1;32m    110\u001b[0m     \u001b[39mself\u001b[39m\u001b[39m.\u001b[39mbars \u001b[39m=\u001b[39m bars \u001b[39mif\u001b[39;00m bars \u001b[39mis\u001b[39;00m \u001b[39mnot\u001b[39;00m \u001b[39mNone\u001b[39;00m \u001b[39melse\u001b[39;00m []\n\u001b[0;32m--> 111\u001b[0m     \u001b[39mself\u001b[39m\u001b[39m.\u001b[39mmax_bar_len \u001b[39m=\u001b[39m \u001b[39mself\u001b[39;49m\u001b[39m.\u001b[39;49mfind_max_bar_len()\n\u001b[1;32m    112\u001b[0m     \u001b[39mself\u001b[39m\u001b[39m.\u001b[39mpad_value \u001b[39m=\u001b[39m pad_value\n\u001b[1;32m    114\u001b[0m     (min_pitch, max_pitch), max_dur \u001b[39m=\u001b[39m \u001b[39mself\u001b[39m\u001b[39m.\u001b[39mexplore_bar_data()\n",
      "File \u001b[0;32m~/dev/py/mir/exploration/../models/bar_embedding.py:139\u001b[0m, in \u001b[0;36mDataset.find_max_bar_len\u001b[0;34m(self)\u001b[0m\n\u001b[1;32m    137\u001b[0m \u001b[39mif\u001b[39;00m \u001b[39mlen\u001b[39m(\u001b[39mself\u001b[39m\u001b[39m.\u001b[39mbars) \u001b[39m==\u001b[39m \u001b[39m0\u001b[39m:\n\u001b[1;32m    138\u001b[0m     \u001b[39mreturn\u001b[39;00m \u001b[39m0\u001b[39m\n\u001b[0;32m--> 139\u001b[0m \u001b[39mreturn\u001b[39;00m \u001b[39mmax\u001b[39;49m(bar\u001b[39m.\u001b[39;49mshape[\u001b[39m0\u001b[39;49m] \u001b[39mfor\u001b[39;49;00m bar \u001b[39min\u001b[39;49;00m \u001b[39mself\u001b[39;49m\u001b[39m.\u001b[39;49mbars)\n",
      "File \u001b[0;32m~/dev/py/mir/exploration/../models/bar_embedding.py:139\u001b[0m, in \u001b[0;36m<genexpr>\u001b[0;34m(.0)\u001b[0m\n\u001b[1;32m    137\u001b[0m \u001b[39mif\u001b[39;00m \u001b[39mlen\u001b[39m(\u001b[39mself\u001b[39m\u001b[39m.\u001b[39mbars) \u001b[39m==\u001b[39m \u001b[39m0\u001b[39m:\n\u001b[1;32m    138\u001b[0m     \u001b[39mreturn\u001b[39;00m \u001b[39m0\u001b[39m\n\u001b[0;32m--> 139\u001b[0m \u001b[39mreturn\u001b[39;00m \u001b[39mmax\u001b[39m(bar\u001b[39m.\u001b[39;49mshape[\u001b[39m0\u001b[39m] \u001b[39mfor\u001b[39;00m bar \u001b[39min\u001b[39;00m \u001b[39mself\u001b[39m\u001b[39m.\u001b[39mbars)\n",
      "\u001b[0;31mAttributeError\u001b[0m: 'tuple' object has no attribute 'shape'"
     ]
    }
   ],
   "source": [
    "ds = bemb.Dataset(list(set(bar for part in encoded_parts for bar in part)))"
   ]
  }
 ],
 "metadata": {
  "kernelspec": {
   "display_name": "Python 3",
   "language": "python",
   "name": "python3"
  },
  "language_info": {
   "codemirror_mode": {
    "name": "ipython",
    "version": 3
   },
   "file_extension": ".py",
   "mimetype": "text/x-python",
   "name": "python",
   "nbconvert_exporter": "python",
   "pygments_lexer": "ipython3",
   "version": "3.10.12"
  },
  "orig_nbformat": 4,
  "vscode": {
   "interpreter": {
    "hash": "916dbcbb3f70747c44a77c7bcd40155683ae19c65e1c03b4aa3499c5328201f1"
   }
  }
 },
 "nbformat": 4,
 "nbformat_minor": 2
}
